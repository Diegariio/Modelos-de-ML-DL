{
 "cells": [
  {
   "cell_type": "code",
   "execution_count": 1,
   "metadata": {},
   "outputs": [],
   "source": [
    "import pandas as pd\n"
   ]
  },
  {
   "cell_type": "code",
   "execution_count": 2,
   "metadata": {},
   "outputs": [],
   "source": [
    "# Ruta del archivo Excel de entrada\n",
    "archivo_excel = '/Users/diego/Documents/CARRERA/2024-1/Electivo Machine Learning - Deep Learning/Proyecto de asignatura/Datos/DatosOtono-Invierno1970-2023.xlsx.xlsm'\n"
   ]
  },
  {
   "cell_type": "code",
   "execution_count": 3,
   "metadata": {},
   "outputs": [],
   "source": [
    "# Cargar el archivo Excel en un DataFrame de pandas\n",
    "df = pd.read_excel(archivo_excel)"
   ]
  },
  {
   "cell_type": "code",
   "execution_count": 4,
   "metadata": {},
   "outputs": [],
   "source": [
    "# Ruta de salida del archivo CSV\n",
    "archivo_csv = '/Users/diego/Documents/CARRERA/2024-1/Electivo Machine Learning - Deep Learning/Proyecto de asignatura/Datos/DataOtonoInvierno.csv'"
   ]
  },
  {
   "cell_type": "code",
   "execution_count": 5,
   "metadata": {},
   "outputs": [
    {
     "name": "stdout",
     "output_type": "stream",
     "text": [
      "Se ha convertido /Users/diego/Documents/CARRERA/2024-1/Electivo Machine Learning - Deep Learning/Proyecto de asignatura/Datos/DatosOtono-Invierno1970-2023.xlsx.xlsm a /Users/diego/Documents/CARRERA/2024-1/Electivo Machine Learning - Deep Learning/Proyecto de asignatura/Datos/DataOtonoInvierno.csv correctamente.\n"
     ]
    }
   ],
   "source": [
    "# Guardar el DataFrame como archivo CSV\n",
    "df.to_csv(archivo_csv, index=False)\n",
    "print(f'Se ha convertido {archivo_excel} a {archivo_csv} correctamente.')"
   ]
  },
  {
   "cell_type": "code",
   "execution_count": null,
   "metadata": {},
   "outputs": [],
   "source": []
  }
 ],
 "metadata": {
  "kernelspec": {
   "display_name": "Python 3",
   "language": "python",
   "name": "python3"
  },
  "language_info": {
   "codemirror_mode": {
    "name": "ipython",
    "version": 3
   },
   "file_extension": ".py",
   "mimetype": "text/x-python",
   "name": "python",
   "nbconvert_exporter": "python",
   "pygments_lexer": "ipython3",
   "version": "3.12.2"
  }
 },
 "nbformat": 4,
 "nbformat_minor": 2
}
